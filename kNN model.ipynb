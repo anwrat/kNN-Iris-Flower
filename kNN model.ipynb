{
 "cells": [
  {
   "cell_type": "markdown",
   "id": "97a45968-acd7-4639-87b2-ee8d07355bbc",
   "metadata": {},
   "source": [
    "# KNN Using Sklearn"
   ]
  },
  {
   "cell_type": "code",
   "execution_count": 1,
   "id": "8035ad9c-7e2e-4f96-a936-dda244a61bbf",
   "metadata": {},
   "outputs": [],
   "source": [
    "#Loading the iris dataset\n",
    "import pandas as pd\n",
    "from sklearn.datasets import load_iris\n",
    "iris=load_iris()"
   ]
  },
  {
   "cell_type": "code",
   "execution_count": null,
   "id": "8148eb07-4a3a-434f-84ad-3dd8c5148a46",
   "metadata": {},
   "outputs": [],
   "source": []
  }
 ],
 "metadata": {
  "kernelspec": {
   "display_name": "Python 3 (ipykernel)",
   "language": "python",
   "name": "python3"
  },
  "language_info": {
   "codemirror_mode": {
    "name": "ipython",
    "version": 3
   },
   "file_extension": ".py",
   "mimetype": "text/x-python",
   "name": "python",
   "nbconvert_exporter": "python",
   "pygments_lexer": "ipython3",
   "version": "3.13.2"
  }
 },
 "nbformat": 4,
 "nbformat_minor": 5
}
